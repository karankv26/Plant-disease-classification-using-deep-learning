{
  "nbformat": 4,
  "nbformat_minor": 0,
  "metadata": {
    "colab": {
      "name": "plants_diseases.ipynb",
      "provenance": [],
      "collapsed_sections": []
    },
    "kernelspec": {
      "name": "python3",
      "display_name": "Python 3"
    },
    "language_info": {
      "name": "python"
    },
    "accelerator": "GPU"
  },
  "cells": [
    {
      "cell_type": "code",
      "metadata": {
        "id": "T0KS-F3mbL0W"
      },
      "source": [
        "import os\n",
        "import zipfile\n",
        "import random\n",
        "import shutil\n",
        "import tensorflow as tf\n",
        "from tensorflow.keras.preprocessing.image import ImageDataGenerator\n",
        "from os import getcwd\n",
        "from os import listdir\n",
        "import cv2\n",
        "from tensorflow.keras.layers import Conv2D, Input, ZeroPadding2D, BatchNormalization, Activation, MaxPooling2D, Flatten, Dense\n",
        "from tensorflow.keras.models import Model, load_model\n",
        "from tensorflow.keras.callbacks import TensorBoard, ModelCheckpoint\n",
        "from sklearn.model_selection import train_test_split\n",
        "import imutils\n",
        "import numpy as np\n",
        "import matplotlib.pyplot as plt\n"
      ],
      "execution_count": 1,
      "outputs": []
    },
    {
      "cell_type": "code",
      "metadata": {
        "id": "Dxl-rqUIbZeK",
        "colab": {
          "base_uri": "https://localhost:8080/",
          "height": 0
        },
        "outputId": "6f3a99de-441d-4c49-c326-bc8bd5115db1"
      },
      "source": [
        "from google.colab import drive\n",
        "drive.mount('/content/drive')"
      ],
      "execution_count": 2,
      "outputs": [
        {
          "output_type": "stream",
          "text": [
            "Mounted at /content/drive\n"
          ],
          "name": "stdout"
        }
      ]
    },
    {
      "cell_type": "code",
      "metadata": {
        "id": "8quAcuFsbcWf"
      },
      "source": [
        "from zipfile import ZipFile\n",
        "file_name = \"/content/drive/MyDrive/GRI/plant_diseases.zip\"\n",
        "\n",
        "with ZipFile(file_name, 'r') as zip:\n",
        "  zip.extractall()"
      ],
      "execution_count": 3,
      "outputs": []
    },
    {
      "cell_type": "code",
      "metadata": {
        "id": "XVbE7d1fbiqH",
        "colab": {
          "base_uri": "https://localhost:8080/",
          "height": 0
        },
        "outputId": "e7ec69fb-3380-4845-9a9b-a0741765a16b"
      },
      "source": [
        "\n",
        "print(len(os.listdir('/content/potato blight')))\n",
        "print(len(os.listdir('/content/corn leaf')))\n"
      ],
      "execution_count": 4,
      "outputs": [
        {
          "output_type": "stream",
          "text": [
            "30\n",
            "30\n"
          ],
          "name": "stdout"
        }
      ]
    },
    {
      "cell_type": "code",
      "metadata": {
        "id": "eizqnz4qbo1m"
      },
      "source": [
        "try:\n",
        "    os.mkdir('/content/accdetection')\n",
        "    os.mkdir('/content/accdetection/training')\n",
        "    os.mkdir('/content/accdetection/testing')\n",
        "\n",
        "    os.mkdir('/content/accdetection/training/corn leaf blight')\n",
        "    os.mkdir('/content/accdetection/training/potato early blight')\n",
        "  \n",
        "\n",
        "\n",
        "    os.mkdir('/content/accdetection/testing/corn leaf blight')\n",
        "    os.mkdir('/content/accdetection/testing/potato early blight')\n",
        "    \n",
        "except OSError:\n",
        "    pass"
      ],
      "execution_count": 5,
      "outputs": []
    },
    {
      "cell_type": "code",
      "metadata": {
        "id": "xAnVgpFmSwjT"
      },
      "source": [
        "import random\n",
        "from shutil import copyfile\n",
        "def split_data(SOURCE, TRAINING, TESTING, SPLIT_SIZE):\n",
        "    files = []\n",
        "    for filename in os.listdir(SOURCE):\n",
        "        file = SOURCE + filename\n",
        "        if os.path.getsize(file) > 0:\n",
        "            files.append(filename)\n",
        "        else:\n",
        "            print(filename + \" is zero length, so ignoring.\")\n",
        "\n",
        "    training_length = int(len(files) * SPLIT_SIZE)\n",
        "    testing_length = int(len(files) - training_length)\n",
        "    shuffled_set = random.sample(files, len(files))\n",
        "    training_set = shuffled_set[0:training_length]\n",
        "    testing_set = shuffled_set[training_length:]\n",
        "\n",
        "    for filename in training_set:\n",
        "        this_file = SOURCE + filename\n",
        "        destination = TRAINING + filename\n",
        "        copyfile(this_file, destination)\n",
        "\n",
        "    for filename in testing_set:\n",
        "        this_file = SOURCE + filename\n",
        "        destination = TESTING + filename\n",
        "        copyfile(this_file, destination)\n",
        "\n",
        "\n",
        "Class1_SOURCE_DIR = \"/content/corn leaf/\"\n",
        "TRAINING_Class1_DIR = \"/content/accdetection/training/corn leaf blight/\"\n",
        "TESTING_Class1_DIR = \"/content/accdetection/testing/corn leaf blight/\"\n",
        "\n",
        "Class2_SOURCE_DIR = \"/content/potato blight/\"\n",
        "TRAINING_Class2_DIR = \"/content/accdetection/training/potato early blight/\"\n",
        "TESTING_Class2_DIR = \"/content/accdetection/testing/potato early blight/\"\n",
        "\n",
        "\n",
        "\n",
        "\n",
        "split_size = 0.9\n",
        "split_data(Class1_SOURCE_DIR, TRAINING_Class1_DIR, TESTING_Class1_DIR, split_size)\n",
        "split_data(Class2_SOURCE_DIR, TRAINING_Class2_DIR, TESTING_Class2_DIR, split_size)\n",
        "\n",
        "\n"
      ],
      "execution_count": 6,
      "outputs": []
    },
    {
      "cell_type": "code",
      "metadata": {
        "id": "UG0jMgB8b2C2",
        "colab": {
          "base_uri": "https://localhost:8080/",
          "height": 0
        },
        "outputId": "28e11ccc-1cb5-45ba-c71f-91439004a541"
      },
      "source": [
        "TRAINING_DIR = \"/content/accdetection/training\"\n",
        "\n",
        "train_datagen = ImageDataGenerator(rescale=1./255,\n",
        "      rotation_range=40,\n",
        "      width_shift_range=0.2,\n",
        "      height_shift_range=0.2,\n",
        "      shear_range=0.2,\n",
        "      zoom_range=0.2,\n",
        "      horizontal_flip=True,\n",
        "      fill_mode='nearest')\n",
        "train_generator = train_datagen.flow_from_directory(TRAINING_DIR,\n",
        "                                                    batch_size=100,\n",
        "                                                    class_mode='binary',\n",
        "                                                    target_size=(150, 150))\n",
        "\n",
        "VALIDATION_DIR = \"/content/accdetection/testing\"\n",
        "\n",
        "validation_datagen = ImageDataGenerator(rescale=1./255)\n",
        "validation_generator = validation_datagen.flow_from_directory(VALIDATION_DIR,\n",
        "                                                              batch_size=100,\n",
        "                                                              class_mode='binary',\n",
        "                                                              target_size=(150, 150))"
      ],
      "execution_count": 7,
      "outputs": [
        {
          "output_type": "stream",
          "text": [
            "Found 54 images belonging to 2 classes.\n",
            "Found 6 images belonging to 2 classes.\n"
          ],
          "name": "stdout"
        }
      ]
    },
    {
      "cell_type": "code",
      "metadata": {
        "id": "WZGVKedJb65f",
        "colab": {
          "base_uri": "https://localhost:8080/",
          "height": 0
        },
        "outputId": "755abdd2-7c32-4a5e-f914-82b0ef78f3f7"
      },
      "source": [
        "model = tf.keras.models.Sequential([\n",
        "    tf.keras.layers.Conv2D(100, (3,3), activation='relu', input_shape=(150, 150, 3)),\n",
        "    tf.keras.layers.MaxPooling2D(2,2),\n",
        "    \n",
        "    tf.keras.layers.Conv2D(100, (3,3), activation='relu'),\n",
        "    tf.keras.layers.MaxPooling2D(2,2),\n",
        "    \n",
        "    tf.keras.layers.Flatten(),\n",
        "    tf.keras.layers.Dropout(0.5),\n",
        "    tf.keras.layers.Dense(50, activation='relu'),\n",
        "    tf.keras.layers.Dense(2, activation='softmax')\n",
        "])\n",
        "print(model.summary())"
      ],
      "execution_count": 8,
      "outputs": [
        {
          "output_type": "stream",
          "text": [
            "Model: \"sequential\"\n",
            "_________________________________________________________________\n",
            "Layer (type)                 Output Shape              Param #   \n",
            "=================================================================\n",
            "conv2d (Conv2D)              (None, 148, 148, 100)     2800      \n",
            "_________________________________________________________________\n",
            "max_pooling2d (MaxPooling2D) (None, 74, 74, 100)       0         \n",
            "_________________________________________________________________\n",
            "conv2d_1 (Conv2D)            (None, 72, 72, 100)       90100     \n",
            "_________________________________________________________________\n",
            "max_pooling2d_1 (MaxPooling2 (None, 36, 36, 100)       0         \n",
            "_________________________________________________________________\n",
            "flatten (Flatten)            (None, 129600)            0         \n",
            "_________________________________________________________________\n",
            "dropout (Dropout)            (None, 129600)            0         \n",
            "_________________________________________________________________\n",
            "dense (Dense)                (None, 50)                6480050   \n",
            "_________________________________________________________________\n",
            "dense_1 (Dense)              (None, 2)                 102       \n",
            "=================================================================\n",
            "Total params: 6,573,052\n",
            "Trainable params: 6,573,052\n",
            "Non-trainable params: 0\n",
            "_________________________________________________________________\n",
            "None\n"
          ],
          "name": "stdout"
        }
      ]
    },
    {
      "cell_type": "code",
      "metadata": {
        "id": "uj2hQDlGb8uJ",
        "colab": {
          "base_uri": "https://localhost:8080/",
          "height": 0
        },
        "outputId": "e86e50cf-8d51-4e52-e8e2-b917d444830d"
      },
      "source": [
        "opt=tf.keras.optimizers.Adam(lr=0.001)\n",
        "\n",
        "model.compile(optimizer=opt,\n",
        "              loss='sparse_categorical_crossentropy',\n",
        "              metrics=['acc'])\n",
        "\n",
        "\n",
        "history = model.fit(\n",
        "            train_generator,\n",
        "            validation_data=validation_generator,\n",
        "            epochs=200,\n",
        "            verbose=1)"
      ],
      "execution_count": 9,
      "outputs": [
        {
          "output_type": "stream",
          "text": [
            "/usr/local/lib/python3.7/dist-packages/tensorflow/python/keras/optimizer_v2/optimizer_v2.py:375: UserWarning: The `lr` argument is deprecated, use `learning_rate` instead.\n",
            "  \"The `lr` argument is deprecated, use `learning_rate` instead.\")\n"
          ],
          "name": "stderr"
        },
        {
          "output_type": "stream",
          "text": [
            "Epoch 1/200\n",
            "1/1 [==============================] - 33s 33s/step - loss: 0.7021 - acc: 0.4815 - val_loss: 1.2583 - val_acc: 0.5000\n",
            "Epoch 2/200\n",
            "1/1 [==============================] - 0s 489ms/step - loss: 1.1042 - acc: 0.5000 - val_loss: 4.1135 - val_acc: 0.5000\n",
            "Epoch 3/200\n",
            "1/1 [==============================] - 0s 484ms/step - loss: 3.7121 - acc: 0.5000 - val_loss: 2.1315 - val_acc: 0.5000\n",
            "Epoch 4/200\n",
            "1/1 [==============================] - 0s 480ms/step - loss: 1.9557 - acc: 0.5000 - val_loss: 0.8906 - val_acc: 0.5000\n",
            "Epoch 5/200\n",
            "1/1 [==============================] - 0s 493ms/step - loss: 0.8625 - acc: 0.5000 - val_loss: 0.7008 - val_acc: 0.5000\n",
            "Epoch 6/200\n",
            "1/1 [==============================] - 1s 539ms/step - loss: 0.6965 - acc: 0.5000 - val_loss: 0.6923 - val_acc: 0.3333\n",
            "Epoch 7/200\n",
            "1/1 [==============================] - 1s 514ms/step - loss: 0.6923 - acc: 0.4259 - val_loss: 0.6927 - val_acc: 0.6667\n",
            "Epoch 8/200\n",
            "1/1 [==============================] - 1s 502ms/step - loss: 0.6889 - acc: 0.4815 - val_loss: 0.6940 - val_acc: 0.6667\n",
            "Epoch 9/200\n",
            "1/1 [==============================] - 0s 499ms/step - loss: 0.6866 - acc: 0.5556 - val_loss: 0.7042 - val_acc: 0.5000\n",
            "Epoch 10/200\n",
            "1/1 [==============================] - 0s 496ms/step - loss: 0.6851 - acc: 0.5000 - val_loss: 0.7030 - val_acc: 0.5000\n",
            "Epoch 11/200\n",
            "1/1 [==============================] - 0s 492ms/step - loss: 0.6819 - acc: 0.4630 - val_loss: 0.7003 - val_acc: 0.6667\n",
            "Epoch 12/200\n",
            "1/1 [==============================] - 0s 494ms/step - loss: 0.6747 - acc: 0.5556 - val_loss: 0.7165 - val_acc: 0.5000\n",
            "Epoch 13/200\n",
            "1/1 [==============================] - 0s 497ms/step - loss: 0.6739 - acc: 0.5000 - val_loss: 0.7195 - val_acc: 0.5000\n",
            "Epoch 14/200\n",
            "1/1 [==============================] - 1s 503ms/step - loss: 0.6553 - acc: 0.5000 - val_loss: 0.7202 - val_acc: 0.5000\n",
            "Epoch 15/200\n",
            "1/1 [==============================] - 0s 494ms/step - loss: 0.6562 - acc: 0.5185 - val_loss: 0.7168 - val_acc: 0.6667\n",
            "Epoch 16/200\n",
            "1/1 [==============================] - 0s 489ms/step - loss: 0.6567 - acc: 0.5185 - val_loss: 0.7283 - val_acc: 0.6667\n",
            "Epoch 17/200\n",
            "1/1 [==============================] - 1s 503ms/step - loss: 0.6518 - acc: 0.5741 - val_loss: 0.7413 - val_acc: 0.6667\n",
            "Epoch 18/200\n",
            "1/1 [==============================] - 0s 495ms/step - loss: 0.6442 - acc: 0.5370 - val_loss: 0.7270 - val_acc: 0.5000\n",
            "Epoch 19/200\n",
            "1/1 [==============================] - 1s 504ms/step - loss: 0.6334 - acc: 0.6481 - val_loss: 0.7288 - val_acc: 0.6667\n",
            "Epoch 20/200\n",
            "1/1 [==============================] - 0s 491ms/step - loss: 0.6218 - acc: 0.5741 - val_loss: 0.7390 - val_acc: 0.5000\n",
            "Epoch 21/200\n",
            "1/1 [==============================] - 0s 494ms/step - loss: 0.6109 - acc: 0.6111 - val_loss: 0.7552 - val_acc: 0.5000\n",
            "Epoch 22/200\n",
            "1/1 [==============================] - 0s 497ms/step - loss: 0.6104 - acc: 0.6481 - val_loss: 0.7434 - val_acc: 0.6667\n",
            "Epoch 23/200\n",
            "1/1 [==============================] - 0s 494ms/step - loss: 0.6095 - acc: 0.5741 - val_loss: 0.7313 - val_acc: 0.6667\n",
            "Epoch 24/200\n",
            "1/1 [==============================] - 1s 504ms/step - loss: 0.5991 - acc: 0.6852 - val_loss: 0.7458 - val_acc: 0.5000\n",
            "Epoch 25/200\n",
            "1/1 [==============================] - 0s 487ms/step - loss: 0.5913 - acc: 0.6667 - val_loss: 0.7915 - val_acc: 0.5000\n",
            "Epoch 26/200\n",
            "1/1 [==============================] - 1s 504ms/step - loss: 0.6167 - acc: 0.5926 - val_loss: 0.7544 - val_acc: 0.5000\n",
            "Epoch 27/200\n",
            "1/1 [==============================] - 0s 487ms/step - loss: 0.5869 - acc: 0.6481 - val_loss: 0.7590 - val_acc: 0.5000\n",
            "Epoch 28/200\n",
            "1/1 [==============================] - 0s 497ms/step - loss: 0.6098 - acc: 0.6852 - val_loss: 0.7508 - val_acc: 0.3333\n",
            "Epoch 29/200\n",
            "1/1 [==============================] - 0s 488ms/step - loss: 0.5606 - acc: 0.6667 - val_loss: 0.7555 - val_acc: 0.5000\n",
            "Epoch 30/200\n",
            "1/1 [==============================] - 1s 509ms/step - loss: 0.5875 - acc: 0.6296 - val_loss: 0.7379 - val_acc: 0.5000\n",
            "Epoch 31/200\n",
            "1/1 [==============================] - 0s 496ms/step - loss: 0.5696 - acc: 0.6667 - val_loss: 0.7194 - val_acc: 0.5000\n",
            "Epoch 32/200\n",
            "1/1 [==============================] - 1s 512ms/step - loss: 0.5169 - acc: 0.7407 - val_loss: 0.7117 - val_acc: 0.5000\n",
            "Epoch 33/200\n",
            "1/1 [==============================] - 0s 493ms/step - loss: 0.5343 - acc: 0.7222 - val_loss: 0.7039 - val_acc: 0.5000\n",
            "Epoch 34/200\n",
            "1/1 [==============================] - 1s 510ms/step - loss: 0.5287 - acc: 0.7037 - val_loss: 0.7014 - val_acc: 0.6667\n",
            "Epoch 35/200\n",
            "1/1 [==============================] - 0s 492ms/step - loss: 0.5517 - acc: 0.6852 - val_loss: 0.7082 - val_acc: 0.6667\n",
            "Epoch 36/200\n",
            "1/1 [==============================] - 1s 503ms/step - loss: 0.4989 - acc: 0.7222 - val_loss: 0.6523 - val_acc: 0.6667\n",
            "Epoch 37/200\n",
            "1/1 [==============================] - 0s 493ms/step - loss: 0.5272 - acc: 0.7222 - val_loss: 0.5973 - val_acc: 0.6667\n",
            "Epoch 38/200\n",
            "1/1 [==============================] - 0s 497ms/step - loss: 0.4924 - acc: 0.7593 - val_loss: 0.6934 - val_acc: 0.5000\n",
            "Epoch 39/200\n",
            "1/1 [==============================] - 0s 497ms/step - loss: 0.5372 - acc: 0.6852 - val_loss: 0.5845 - val_acc: 0.6667\n",
            "Epoch 40/200\n",
            "1/1 [==============================] - 1s 502ms/step - loss: 0.5063 - acc: 0.7222 - val_loss: 0.5649 - val_acc: 0.6667\n",
            "Epoch 41/200\n",
            "1/1 [==============================] - 0s 499ms/step - loss: 0.4536 - acc: 0.8333 - val_loss: 0.5538 - val_acc: 0.6667\n",
            "Epoch 42/200\n",
            "1/1 [==============================] - 1s 503ms/step - loss: 0.4080 - acc: 0.8333 - val_loss: 0.5346 - val_acc: 0.6667\n",
            "Epoch 43/200\n",
            "1/1 [==============================] - 0s 492ms/step - loss: 0.4592 - acc: 0.8333 - val_loss: 0.6330 - val_acc: 0.6667\n",
            "Epoch 44/200\n",
            "1/1 [==============================] - 1s 511ms/step - loss: 0.4359 - acc: 0.8148 - val_loss: 0.7081 - val_acc: 0.6667\n",
            "Epoch 45/200\n",
            "1/1 [==============================] - 0s 492ms/step - loss: 0.4883 - acc: 0.7407 - val_loss: 0.5916 - val_acc: 0.6667\n",
            "Epoch 46/200\n",
            "1/1 [==============================] - 1s 504ms/step - loss: 0.4597 - acc: 0.7778 - val_loss: 0.6198 - val_acc: 0.6667\n",
            "Epoch 47/200\n",
            "1/1 [==============================] - 0s 494ms/step - loss: 0.3857 - acc: 0.8148 - val_loss: 0.8473 - val_acc: 0.6667\n",
            "Epoch 48/200\n",
            "1/1 [==============================] - 0s 499ms/step - loss: 0.4750 - acc: 0.7593 - val_loss: 0.6585 - val_acc: 0.6667\n",
            "Epoch 49/200\n",
            "1/1 [==============================] - 0s 497ms/step - loss: 0.4241 - acc: 0.8148 - val_loss: 0.5623 - val_acc: 0.6667\n",
            "Epoch 50/200\n",
            "1/1 [==============================] - 1s 500ms/step - loss: 0.4161 - acc: 0.7593 - val_loss: 0.5792 - val_acc: 0.6667\n",
            "Epoch 51/200\n",
            "1/1 [==============================] - 0s 493ms/step - loss: 0.5872 - acc: 0.7222 - val_loss: 0.5501 - val_acc: 0.6667\n",
            "Epoch 52/200\n",
            "1/1 [==============================] - 1s 508ms/step - loss: 0.3977 - acc: 0.8519 - val_loss: 0.6057 - val_acc: 0.6667\n",
            "Epoch 53/200\n",
            "1/1 [==============================] - 1s 518ms/step - loss: 0.4174 - acc: 0.8148 - val_loss: 0.7181 - val_acc: 0.5000\n",
            "Epoch 54/200\n",
            "1/1 [==============================] - 0s 500ms/step - loss: 0.4411 - acc: 0.7963 - val_loss: 0.7569 - val_acc: 0.5000\n",
            "Epoch 55/200\n",
            "1/1 [==============================] - 0s 498ms/step - loss: 0.4318 - acc: 0.7778 - val_loss: 0.6848 - val_acc: 0.5000\n",
            "Epoch 56/200\n",
            "1/1 [==============================] - 1s 503ms/step - loss: 0.3584 - acc: 0.8148 - val_loss: 0.6732 - val_acc: 0.5000\n",
            "Epoch 57/200\n",
            "1/1 [==============================] - 1s 512ms/step - loss: 0.3975 - acc: 0.8519 - val_loss: 0.7526 - val_acc: 0.3333\n",
            "Epoch 58/200\n",
            "1/1 [==============================] - 1s 508ms/step - loss: 0.4083 - acc: 0.7963 - val_loss: 0.8723 - val_acc: 0.5000\n",
            "Epoch 59/200\n",
            "1/1 [==============================] - 1s 507ms/step - loss: 0.3606 - acc: 0.8333 - val_loss: 1.0339 - val_acc: 0.5000\n",
            "Epoch 60/200\n",
            "1/1 [==============================] - 0s 500ms/step - loss: 0.3583 - acc: 0.8333 - val_loss: 1.0044 - val_acc: 0.5000\n",
            "Epoch 61/200\n",
            "1/1 [==============================] - 0s 496ms/step - loss: 0.3548 - acc: 0.8333 - val_loss: 0.9274 - val_acc: 0.3333\n",
            "Epoch 62/200\n",
            "1/1 [==============================] - 0s 499ms/step - loss: 0.4360 - acc: 0.8148 - val_loss: 0.8485 - val_acc: 0.3333\n",
            "Epoch 63/200\n",
            "1/1 [==============================] - 1s 504ms/step - loss: 0.3478 - acc: 0.8519 - val_loss: 0.7690 - val_acc: 0.5000\n",
            "Epoch 64/200\n",
            "1/1 [==============================] - 0s 492ms/step - loss: 0.2821 - acc: 0.8704 - val_loss: 0.7000 - val_acc: 0.5000\n",
            "Epoch 65/200\n",
            "1/1 [==============================] - 1s 502ms/step - loss: 0.3291 - acc: 0.7593 - val_loss: 0.6786 - val_acc: 0.5000\n",
            "Epoch 66/200\n",
            "1/1 [==============================] - 0s 493ms/step - loss: 0.2634 - acc: 0.8889 - val_loss: 0.6970 - val_acc: 0.6667\n",
            "Epoch 67/200\n",
            "1/1 [==============================] - 1s 503ms/step - loss: 0.4333 - acc: 0.8333 - val_loss: 0.6923 - val_acc: 0.6667\n",
            "Epoch 68/200\n",
            "1/1 [==============================] - 1s 500ms/step - loss: 0.2747 - acc: 0.8333 - val_loss: 0.6952 - val_acc: 0.6667\n",
            "Epoch 69/200\n",
            "1/1 [==============================] - 1s 535ms/step - loss: 0.2981 - acc: 0.8519 - val_loss: 0.7784 - val_acc: 0.8333\n",
            "Epoch 70/200\n",
            "1/1 [==============================] - 1s 520ms/step - loss: 0.3585 - acc: 0.8519 - val_loss: 0.7257 - val_acc: 0.8333\n",
            "Epoch 71/200\n",
            "1/1 [==============================] - 1s 509ms/step - loss: 0.3460 - acc: 0.8333 - val_loss: 0.6798 - val_acc: 0.6667\n",
            "Epoch 72/200\n",
            "1/1 [==============================] - 1s 508ms/step - loss: 0.4559 - acc: 0.8148 - val_loss: 0.8011 - val_acc: 0.6667\n",
            "Epoch 73/200\n",
            "1/1 [==============================] - 1s 513ms/step - loss: 0.4080 - acc: 0.8148 - val_loss: 1.0260 - val_acc: 0.6667\n",
            "Epoch 74/200\n",
            "1/1 [==============================] - 1s 500ms/step - loss: 0.2939 - acc: 0.8519 - val_loss: 0.8036 - val_acc: 0.6667\n",
            "Epoch 75/200\n",
            "1/1 [==============================] - 1s 501ms/step - loss: 0.2781 - acc: 0.8704 - val_loss: 0.5800 - val_acc: 0.6667\n",
            "Epoch 76/200\n",
            "1/1 [==============================] - 0s 496ms/step - loss: 0.3939 - acc: 0.8519 - val_loss: 0.5683 - val_acc: 0.6667\n",
            "Epoch 77/200\n",
            "1/1 [==============================] - 1s 502ms/step - loss: 0.3335 - acc: 0.8519 - val_loss: 0.5258 - val_acc: 0.5000\n",
            "Epoch 78/200\n",
            "1/1 [==============================] - 0s 497ms/step - loss: 0.3472 - acc: 0.8333 - val_loss: 0.5075 - val_acc: 0.5000\n",
            "Epoch 79/200\n",
            "1/1 [==============================] - 0s 496ms/step - loss: 0.3036 - acc: 0.8704 - val_loss: 0.5057 - val_acc: 0.5000\n",
            "Epoch 80/200\n",
            "1/1 [==============================] - 1s 502ms/step - loss: 0.3220 - acc: 0.8704 - val_loss: 0.4754 - val_acc: 0.6667\n",
            "Epoch 81/200\n",
            "1/1 [==============================] - 1s 509ms/step - loss: 0.3594 - acc: 0.8704 - val_loss: 0.5190 - val_acc: 0.6667\n",
            "Epoch 82/200\n",
            "1/1 [==============================] - 1s 500ms/step - loss: 0.2954 - acc: 0.9074 - val_loss: 0.7030 - val_acc: 0.5000\n",
            "Epoch 83/200\n",
            "1/1 [==============================] - 1s 506ms/step - loss: 0.4144 - acc: 0.7778 - val_loss: 0.6669 - val_acc: 0.6667\n",
            "Epoch 84/200\n",
            "1/1 [==============================] - 0s 493ms/step - loss: 0.2599 - acc: 0.8889 - val_loss: 0.6205 - val_acc: 0.6667\n",
            "Epoch 85/200\n",
            "1/1 [==============================] - 1s 510ms/step - loss: 0.3259 - acc: 0.8704 - val_loss: 0.7309 - val_acc: 0.6667\n",
            "Epoch 86/200\n",
            "1/1 [==============================] - 0s 494ms/step - loss: 0.2966 - acc: 0.8889 - val_loss: 0.6477 - val_acc: 0.6667\n",
            "Epoch 87/200\n",
            "1/1 [==============================] - 1s 502ms/step - loss: 0.2924 - acc: 0.8889 - val_loss: 0.5249 - val_acc: 0.6667\n",
            "Epoch 88/200\n",
            "1/1 [==============================] - 0s 494ms/step - loss: 0.2412 - acc: 0.9259 - val_loss: 0.5647 - val_acc: 0.6667\n",
            "Epoch 89/200\n",
            "1/1 [==============================] - 0s 498ms/step - loss: 0.3066 - acc: 0.8519 - val_loss: 0.6817 - val_acc: 0.5000\n",
            "Epoch 90/200\n",
            "1/1 [==============================] - 0s 491ms/step - loss: 0.2291 - acc: 0.9074 - val_loss: 0.9029 - val_acc: 0.5000\n",
            "Epoch 91/200\n",
            "1/1 [==============================] - 0s 500ms/step - loss: 0.3565 - acc: 0.8333 - val_loss: 1.0344 - val_acc: 0.5000\n",
            "Epoch 92/200\n",
            "1/1 [==============================] - 1s 506ms/step - loss: 0.2813 - acc: 0.8704 - val_loss: 0.9732 - val_acc: 0.5000\n",
            "Epoch 93/200\n",
            "1/1 [==============================] - 1s 500ms/step - loss: 0.3752 - acc: 0.8704 - val_loss: 0.8705 - val_acc: 0.6667\n",
            "Epoch 94/200\n",
            "1/1 [==============================] - 0s 497ms/step - loss: 0.2260 - acc: 0.9074 - val_loss: 0.9261 - val_acc: 0.5000\n",
            "Epoch 95/200\n",
            "1/1 [==============================] - 1s 522ms/step - loss: 0.2848 - acc: 0.8519 - val_loss: 0.7368 - val_acc: 0.6667\n",
            "Epoch 96/200\n",
            "1/1 [==============================] - 0s 497ms/step - loss: 0.3199 - acc: 0.8333 - val_loss: 0.6707 - val_acc: 0.6667\n",
            "Epoch 97/200\n",
            "1/1 [==============================] - 1s 502ms/step - loss: 0.2844 - acc: 0.8519 - val_loss: 0.6226 - val_acc: 0.6667\n",
            "Epoch 98/200\n",
            "1/1 [==============================] - 0s 498ms/step - loss: 0.2718 - acc: 0.9074 - val_loss: 0.6201 - val_acc: 0.6667\n",
            "Epoch 99/200\n",
            "1/1 [==============================] - 1s 503ms/step - loss: 0.2837 - acc: 0.8889 - val_loss: 0.6816 - val_acc: 0.6667\n",
            "Epoch 100/200\n",
            "1/1 [==============================] - 0s 496ms/step - loss: 0.2729 - acc: 0.9074 - val_loss: 0.8116 - val_acc: 0.6667\n",
            "Epoch 101/200\n",
            "1/1 [==============================] - 1s 500ms/step - loss: 0.2151 - acc: 0.9259 - val_loss: 1.0057 - val_acc: 0.5000\n",
            "Epoch 102/200\n",
            "1/1 [==============================] - 1s 502ms/step - loss: 0.3797 - acc: 0.8519 - val_loss: 0.9605 - val_acc: 0.5000\n",
            "Epoch 103/200\n",
            "1/1 [==============================] - 1s 501ms/step - loss: 0.2886 - acc: 0.8519 - val_loss: 0.8195 - val_acc: 0.5000\n",
            "Epoch 104/200\n",
            "1/1 [==============================] - 0s 497ms/step - loss: 0.2048 - acc: 0.8704 - val_loss: 0.7729 - val_acc: 0.5000\n",
            "Epoch 105/200\n",
            "1/1 [==============================] - 1s 500ms/step - loss: 0.2936 - acc: 0.8704 - val_loss: 0.8422 - val_acc: 0.3333\n",
            "Epoch 106/200\n",
            "1/1 [==============================] - 0s 494ms/step - loss: 0.2781 - acc: 0.8889 - val_loss: 0.8485 - val_acc: 0.5000\n",
            "Epoch 107/200\n",
            "1/1 [==============================] - 1s 506ms/step - loss: 0.2891 - acc: 0.9074 - val_loss: 0.6569 - val_acc: 0.5000\n",
            "Epoch 108/200\n",
            "1/1 [==============================] - 1s 519ms/step - loss: 0.2979 - acc: 0.8889 - val_loss: 0.4954 - val_acc: 0.6667\n",
            "Epoch 109/200\n",
            "1/1 [==============================] - 0s 499ms/step - loss: 0.2151 - acc: 0.9444 - val_loss: 0.5072 - val_acc: 0.6667\n",
            "Epoch 110/200\n",
            "1/1 [==============================] - 1s 512ms/step - loss: 0.2853 - acc: 0.8704 - val_loss: 0.6127 - val_acc: 0.6667\n",
            "Epoch 111/200\n",
            "1/1 [==============================] - 1s 504ms/step - loss: 0.2302 - acc: 0.9074 - val_loss: 0.7646 - val_acc: 0.6667\n",
            "Epoch 112/200\n",
            "1/1 [==============================] - 1s 514ms/step - loss: 0.2543 - acc: 0.8889 - val_loss: 0.9771 - val_acc: 0.6667\n",
            "Epoch 113/200\n",
            "1/1 [==============================] - 0s 497ms/step - loss: 0.2755 - acc: 0.8148 - val_loss: 0.9154 - val_acc: 0.6667\n",
            "Epoch 114/200\n",
            "1/1 [==============================] - 1s 502ms/step - loss: 0.2892 - acc: 0.9074 - val_loss: 0.8375 - val_acc: 0.5000\n",
            "Epoch 115/200\n",
            "1/1 [==============================] - 1s 528ms/step - loss: 0.1414 - acc: 0.9630 - val_loss: 0.7788 - val_acc: 0.6667\n",
            "Epoch 116/200\n",
            "1/1 [==============================] - 1s 508ms/step - loss: 0.2358 - acc: 0.9074 - val_loss: 0.9169 - val_acc: 0.6667\n",
            "Epoch 117/200\n",
            "1/1 [==============================] - 0s 496ms/step - loss: 0.2796 - acc: 0.8519 - val_loss: 0.9848 - val_acc: 0.6667\n",
            "Epoch 118/200\n",
            "1/1 [==============================] - 1s 508ms/step - loss: 0.2177 - acc: 0.9074 - val_loss: 1.0150 - val_acc: 0.5000\n",
            "Epoch 119/200\n",
            "1/1 [==============================] - 1s 504ms/step - loss: 0.2081 - acc: 0.9259 - val_loss: 0.8269 - val_acc: 0.5000\n",
            "Epoch 120/200\n",
            "1/1 [==============================] - 1s 512ms/step - loss: 0.2169 - acc: 0.9074 - val_loss: 0.9582 - val_acc: 0.5000\n",
            "Epoch 121/200\n",
            "1/1 [==============================] - 1s 522ms/step - loss: 0.3900 - acc: 0.8148 - val_loss: 0.7820 - val_acc: 0.6667\n",
            "Epoch 122/200\n",
            "1/1 [==============================] - 1s 520ms/step - loss: 0.2507 - acc: 0.8704 - val_loss: 0.5764 - val_acc: 0.6667\n",
            "Epoch 123/200\n",
            "1/1 [==============================] - 1s 511ms/step - loss: 0.2897 - acc: 0.9630 - val_loss: 0.5911 - val_acc: 0.6667\n",
            "Epoch 124/200\n",
            "1/1 [==============================] - 1s 503ms/step - loss: 0.2324 - acc: 0.9259 - val_loss: 0.6443 - val_acc: 0.5000\n",
            "Epoch 125/200\n",
            "1/1 [==============================] - 1s 510ms/step - loss: 0.2675 - acc: 0.9259 - val_loss: 0.6915 - val_acc: 0.6667\n",
            "Epoch 126/200\n",
            "1/1 [==============================] - 1s 506ms/step - loss: 0.2845 - acc: 0.8889 - val_loss: 0.9208 - val_acc: 0.6667\n",
            "Epoch 127/200\n",
            "1/1 [==============================] - 1s 518ms/step - loss: 0.2368 - acc: 0.9074 - val_loss: 0.9993 - val_acc: 0.6667\n",
            "Epoch 128/200\n",
            "1/1 [==============================] - 1s 504ms/step - loss: 0.1682 - acc: 0.9444 - val_loss: 1.0626 - val_acc: 0.5000\n",
            "Epoch 129/200\n",
            "1/1 [==============================] - 1s 509ms/step - loss: 0.1749 - acc: 0.9259 - val_loss: 1.1739 - val_acc: 0.5000\n",
            "Epoch 130/200\n",
            "1/1 [==============================] - 1s 505ms/step - loss: 0.2148 - acc: 0.9444 - val_loss: 1.2764 - val_acc: 0.6667\n",
            "Epoch 131/200\n",
            "1/1 [==============================] - 1s 531ms/step - loss: 0.2261 - acc: 0.8704 - val_loss: 1.2046 - val_acc: 0.3333\n",
            "Epoch 132/200\n",
            "1/1 [==============================] - 1s 511ms/step - loss: 0.1664 - acc: 0.9815 - val_loss: 1.2464 - val_acc: 0.5000\n",
            "Epoch 133/200\n",
            "1/1 [==============================] - 1s 510ms/step - loss: 0.2006 - acc: 0.9259 - val_loss: 1.3476 - val_acc: 0.5000\n",
            "Epoch 134/200\n",
            "1/1 [==============================] - 1s 523ms/step - loss: 0.1928 - acc: 0.9444 - val_loss: 1.6047 - val_acc: 0.5000\n",
            "Epoch 135/200\n",
            "1/1 [==============================] - 1s 508ms/step - loss: 0.2510 - acc: 0.8704 - val_loss: 1.4732 - val_acc: 0.5000\n",
            "Epoch 136/200\n",
            "1/1 [==============================] - 1s 505ms/step - loss: 0.2005 - acc: 0.9074 - val_loss: 1.2575 - val_acc: 0.3333\n",
            "Epoch 137/200\n",
            "1/1 [==============================] - 1s 511ms/step - loss: 0.2217 - acc: 0.9259 - val_loss: 0.9169 - val_acc: 0.5000\n",
            "Epoch 138/200\n",
            "1/1 [==============================] - 0s 492ms/step - loss: 0.2822 - acc: 0.8333 - val_loss: 0.6601 - val_acc: 0.5000\n",
            "Epoch 139/200\n",
            "1/1 [==============================] - 1s 507ms/step - loss: 0.1804 - acc: 0.9630 - val_loss: 0.5942 - val_acc: 0.5000\n",
            "Epoch 140/200\n",
            "1/1 [==============================] - 0s 495ms/step - loss: 0.1835 - acc: 0.9444 - val_loss: 0.5950 - val_acc: 0.5000\n",
            "Epoch 141/200\n",
            "1/1 [==============================] - 1s 510ms/step - loss: 0.1853 - acc: 0.9444 - val_loss: 0.5998 - val_acc: 0.5000\n",
            "Epoch 142/200\n",
            "1/1 [==============================] - 1s 523ms/step - loss: 0.1409 - acc: 0.9815 - val_loss: 0.6346 - val_acc: 0.5000\n",
            "Epoch 143/200\n",
            "1/1 [==============================] - 0s 496ms/step - loss: 0.2421 - acc: 0.9259 - val_loss: 0.6827 - val_acc: 0.5000\n",
            "Epoch 144/200\n",
            "1/1 [==============================] - 0s 496ms/step - loss: 0.1719 - acc: 0.9630 - val_loss: 0.8562 - val_acc: 0.5000\n",
            "Epoch 145/200\n",
            "1/1 [==============================] - 0s 496ms/step - loss: 0.1305 - acc: 0.9444 - val_loss: 1.0016 - val_acc: 0.5000\n",
            "Epoch 146/200\n",
            "1/1 [==============================] - 1s 514ms/step - loss: 0.1848 - acc: 0.9074 - val_loss: 0.9377 - val_acc: 0.5000\n",
            "Epoch 147/200\n",
            "1/1 [==============================] - 1s 515ms/step - loss: 0.1415 - acc: 0.9444 - val_loss: 0.8476 - val_acc: 0.5000\n",
            "Epoch 148/200\n",
            "1/1 [==============================] - 1s 510ms/step - loss: 0.5266 - acc: 0.7963 - val_loss: 1.0414 - val_acc: 0.3333\n",
            "Epoch 149/200\n",
            "1/1 [==============================] - 0s 495ms/step - loss: 0.3223 - acc: 0.8889 - val_loss: 0.9964 - val_acc: 0.3333\n",
            "Epoch 150/200\n",
            "1/1 [==============================] - 1s 514ms/step - loss: 0.1981 - acc: 0.8704 - val_loss: 0.7875 - val_acc: 0.3333\n",
            "Epoch 151/200\n",
            "1/1 [==============================] - 0s 493ms/step - loss: 0.2294 - acc: 0.9444 - val_loss: 0.5951 - val_acc: 0.5000\n",
            "Epoch 152/200\n",
            "1/1 [==============================] - 1s 504ms/step - loss: 0.2081 - acc: 0.9259 - val_loss: 0.6783 - val_acc: 0.3333\n",
            "Epoch 153/200\n",
            "1/1 [==============================] - 0s 489ms/step - loss: 0.2422 - acc: 0.8889 - val_loss: 0.7619 - val_acc: 0.3333\n",
            "Epoch 154/200\n",
            "1/1 [==============================] - 1s 507ms/step - loss: 0.2359 - acc: 0.9259 - val_loss: 0.7107 - val_acc: 0.5000\n",
            "Epoch 155/200\n",
            "1/1 [==============================] - 1s 509ms/step - loss: 0.1911 - acc: 0.9444 - val_loss: 0.9240 - val_acc: 0.6667\n",
            "Epoch 156/200\n",
            "1/1 [==============================] - 1s 502ms/step - loss: 0.2517 - acc: 0.8889 - val_loss: 1.2111 - val_acc: 0.6667\n",
            "Epoch 157/200\n",
            "1/1 [==============================] - 0s 496ms/step - loss: 0.2581 - acc: 0.8704 - val_loss: 1.2415 - val_acc: 0.5000\n",
            "Epoch 158/200\n",
            "1/1 [==============================] - 0s 499ms/step - loss: 0.1635 - acc: 0.9630 - val_loss: 1.4170 - val_acc: 0.3333\n",
            "Epoch 159/200\n",
            "1/1 [==============================] - 0s 497ms/step - loss: 0.1738 - acc: 0.9444 - val_loss: 1.3482 - val_acc: 0.3333\n",
            "Epoch 160/200\n",
            "1/1 [==============================] - 1s 506ms/step - loss: 0.1146 - acc: 0.9630 - val_loss: 1.3815 - val_acc: 0.3333\n",
            "Epoch 161/200\n",
            "1/1 [==============================] - 0s 500ms/step - loss: 0.1777 - acc: 0.9259 - val_loss: 1.4306 - val_acc: 0.3333\n",
            "Epoch 162/200\n",
            "1/1 [==============================] - 1s 508ms/step - loss: 0.1796 - acc: 0.9259 - val_loss: 1.6418 - val_acc: 0.3333\n",
            "Epoch 163/200\n",
            "1/1 [==============================] - 1s 506ms/step - loss: 0.3180 - acc: 0.8704 - val_loss: 1.7508 - val_acc: 0.5000\n",
            "Epoch 164/200\n",
            "1/1 [==============================] - 1s 504ms/step - loss: 0.1739 - acc: 0.8889 - val_loss: 1.9210 - val_acc: 0.5000\n",
            "Epoch 165/200\n",
            "1/1 [==============================] - 1s 506ms/step - loss: 0.1679 - acc: 0.9444 - val_loss: 1.8790 - val_acc: 0.5000\n",
            "Epoch 166/200\n",
            "1/1 [==============================] - 0s 499ms/step - loss: 0.1626 - acc: 0.9444 - val_loss: 1.5113 - val_acc: 0.3333\n",
            "Epoch 167/200\n",
            "1/1 [==============================] - 1s 508ms/step - loss: 0.1999 - acc: 0.9259 - val_loss: 1.1988 - val_acc: 0.3333\n",
            "Epoch 168/200\n",
            "1/1 [==============================] - 1s 503ms/step - loss: 0.2507 - acc: 0.8889 - val_loss: 1.0804 - val_acc: 0.5000\n",
            "Epoch 169/200\n",
            "1/1 [==============================] - 1s 515ms/step - loss: 0.1514 - acc: 0.9259 - val_loss: 1.1094 - val_acc: 0.5000\n",
            "Epoch 170/200\n",
            "1/1 [==============================] - 1s 514ms/step - loss: 0.2485 - acc: 0.9074 - val_loss: 0.8556 - val_acc: 0.5000\n",
            "Epoch 171/200\n",
            "1/1 [==============================] - 1s 521ms/step - loss: 0.2207 - acc: 0.9259 - val_loss: 0.7169 - val_acc: 0.5000\n",
            "Epoch 172/200\n",
            "1/1 [==============================] - 0s 496ms/step - loss: 0.1307 - acc: 0.9444 - val_loss: 0.7456 - val_acc: 0.5000\n",
            "Epoch 173/200\n",
            "1/1 [==============================] - 1s 504ms/step - loss: 0.2259 - acc: 0.9074 - val_loss: 0.8346 - val_acc: 0.5000\n",
            "Epoch 174/200\n",
            "1/1 [==============================] - 1s 521ms/step - loss: 0.2042 - acc: 0.9259 - val_loss: 0.9031 - val_acc: 0.5000\n",
            "Epoch 175/200\n",
            "1/1 [==============================] - 1s 509ms/step - loss: 0.1288 - acc: 0.9444 - val_loss: 1.0618 - val_acc: 0.5000\n",
            "Epoch 176/200\n",
            "1/1 [==============================] - 0s 498ms/step - loss: 0.1179 - acc: 0.9815 - val_loss: 1.1476 - val_acc: 0.3333\n",
            "Epoch 177/200\n",
            "1/1 [==============================] - 1s 520ms/step - loss: 0.1706 - acc: 0.8889 - val_loss: 1.0372 - val_acc: 0.5000\n",
            "Epoch 178/200\n",
            "1/1 [==============================] - 1s 507ms/step - loss: 0.2664 - acc: 0.9444 - val_loss: 0.8976 - val_acc: 0.5000\n",
            "Epoch 179/200\n",
            "1/1 [==============================] - 1s 515ms/step - loss: 0.1123 - acc: 0.9815 - val_loss: 1.2487 - val_acc: 0.6667\n",
            "Epoch 180/200\n",
            "1/1 [==============================] - 1s 505ms/step - loss: 0.2059 - acc: 0.9259 - val_loss: 1.4317 - val_acc: 0.6667\n",
            "Epoch 181/200\n",
            "1/1 [==============================] - 1s 506ms/step - loss: 0.2216 - acc: 0.9074 - val_loss: 1.0346 - val_acc: 0.6667\n",
            "Epoch 182/200\n",
            "1/1 [==============================] - 1s 554ms/step - loss: 0.2270 - acc: 0.8889 - val_loss: 0.7635 - val_acc: 0.5000\n",
            "Epoch 183/200\n",
            "1/1 [==============================] - 1s 504ms/step - loss: 0.2013 - acc: 0.9259 - val_loss: 0.7218 - val_acc: 0.5000\n",
            "Epoch 184/200\n",
            "1/1 [==============================] - 1s 509ms/step - loss: 0.2135 - acc: 0.9074 - val_loss: 0.8305 - val_acc: 0.3333\n",
            "Epoch 185/200\n",
            "1/1 [==============================] - 1s 502ms/step - loss: 0.2550 - acc: 0.8704 - val_loss: 1.1984 - val_acc: 0.6667\n",
            "Epoch 186/200\n",
            "1/1 [==============================] - 1s 526ms/step - loss: 0.2400 - acc: 0.9259 - val_loss: 1.1199 - val_acc: 0.3333\n",
            "Epoch 187/200\n",
            "1/1 [==============================] - 1s 505ms/step - loss: 0.1312 - acc: 0.9630 - val_loss: 1.0701 - val_acc: 0.3333\n",
            "Epoch 188/200\n",
            "1/1 [==============================] - 1s 512ms/step - loss: 0.1356 - acc: 0.9630 - val_loss: 1.1890 - val_acc: 0.3333\n",
            "Epoch 189/200\n",
            "1/1 [==============================] - 1s 520ms/step - loss: 0.1528 - acc: 0.9444 - val_loss: 1.4819 - val_acc: 0.5000\n",
            "Epoch 190/200\n",
            "1/1 [==============================] - 1s 521ms/step - loss: 0.2064 - acc: 0.9259 - val_loss: 1.5863 - val_acc: 0.3333\n",
            "Epoch 191/200\n",
            "1/1 [==============================] - 1s 510ms/step - loss: 0.2738 - acc: 0.8889 - val_loss: 1.5188 - val_acc: 0.5000\n",
            "Epoch 192/200\n",
            "1/1 [==============================] - 1s 525ms/step - loss: 0.0604 - acc: 0.9815 - val_loss: 1.6117 - val_acc: 0.5000\n",
            "Epoch 193/200\n",
            "1/1 [==============================] - 1s 503ms/step - loss: 0.0836 - acc: 0.9815 - val_loss: 1.7292 - val_acc: 0.5000\n",
            "Epoch 194/200\n",
            "1/1 [==============================] - 1s 515ms/step - loss: 0.1378 - acc: 0.9259 - val_loss: 1.4669 - val_acc: 0.5000\n",
            "Epoch 195/200\n",
            "1/1 [==============================] - 1s 529ms/step - loss: 0.1528 - acc: 0.9259 - val_loss: 1.0779 - val_acc: 0.5000\n",
            "Epoch 196/200\n",
            "1/1 [==============================] - 1s 520ms/step - loss: 0.1659 - acc: 0.9630 - val_loss: 1.0187 - val_acc: 0.6667\n",
            "Epoch 197/200\n",
            "1/1 [==============================] - 1s 520ms/step - loss: 0.1100 - acc: 0.9815 - val_loss: 1.0491 - val_acc: 0.6667\n",
            "Epoch 198/200\n",
            "1/1 [==============================] - 1s 504ms/step - loss: 0.1017 - acc: 0.9630 - val_loss: 1.0285 - val_acc: 0.6667\n",
            "Epoch 199/200\n",
            "1/1 [==============================] - 1s 514ms/step - loss: 0.1236 - acc: 0.9259 - val_loss: 1.0283 - val_acc: 0.5000\n",
            "Epoch 200/200\n",
            "1/1 [==============================] - 0s 497ms/step - loss: 0.1737 - acc: 0.9444 - val_loss: 1.1877 - val_acc: 0.5000\n"
          ],
          "name": "stdout"
        }
      ]
    },
    {
      "cell_type": "code",
      "metadata": {
        "id": "cwDveip0cAku",
        "colab": {
          "base_uri": "https://localhost:8080/",
          "height": 0
        },
        "outputId": "50156834-c6e0-4462-d59a-6ac1b27b6fb8"
      },
      "source": [
        "model.evaluate(validation_generator)"
      ],
      "execution_count": 10,
      "outputs": [
        {
          "output_type": "stream",
          "text": [
            "1/1 [==============================] - 0s 45ms/step - loss: 1.1877 - acc: 0.5000\n"
          ],
          "name": "stdout"
        },
        {
          "output_type": "execute_result",
          "data": {
            "text/plain": [
              "[1.1876821517944336, 0.5]"
            ]
          },
          "metadata": {
            "tags": []
          },
          "execution_count": 10
        }
      ]
    },
    {
      "cell_type": "code",
      "metadata": {
        "id": "ev10v3V5dUDy"
      },
      "source": [
        "model.save('Plants.h5')"
      ],
      "execution_count": 11,
      "outputs": []
    },
    {
      "cell_type": "code",
      "metadata": {
        "id": "AayZgvZttoGT"
      },
      "source": [
        "from keras.preprocessing.image import load_img,img_to_array\n",
        "\n",
        "dic=train_generator.class_indices\n",
        "\n",
        "icd={k:v for v,k in dic.items()}\n",
        "\n",
        "def output(location):\n",
        "\n",
        "    img=load_img(location,target_size=(150,150,3))\n",
        "\n",
        "    img=img_to_array(img)\n",
        "\n",
        "    img=img/255\n",
        "\n",
        "    img=np.expand_dims(img,[0])\n",
        "\n",
        "    answer=model.predict_classes(img)\n",
        "\n",
        "    probability=round(np.max(model.predict_proba(img)*100),2)\n",
        "    print (\"**\",icd[answer[0]], 'With probability',probability,\"\\n\")"
      ],
      "execution_count": 17,
      "outputs": []
    },
    {
      "cell_type": "code",
      "metadata": {
        "id": "aiyIrt4hAhcW",
        "colab": {
          "base_uri": "https://localhost:8080/",
          "height": 167
        },
        "outputId": "42cfb67c-2503-4544-9bb4-235396548ce1"
      },
      "source": [
        "img=\"/content/potato blight/p (1).jpg\"\n",
        "s=load_img(img,target_size=(150,150,3))\n",
        "s\n"
      ],
      "execution_count": 18,
      "outputs": [
        {
          "output_type": "execute_result",
          "data": {
            "image/png": "[encoded data removed]",
            "text/plain": [
              "<PIL.Image.Image image mode=RGB size=150x150 at 0x7F53F81BF610>"
            ]
          },
          "metadata": {
            "tags": []
          },
          "execution_count": 18
        }
      ]
    },
    {
      "cell_type": "code",
      "metadata": {
        "id": "y9sIY1SSuEbp",
        "colab": {
          "base_uri": "https://localhost:8080/",
          "height": 0
        },
        "outputId": "cb8a199c-64ed-4c49-e4d0-72b543cf507d"
      },
      "source": [
        "output(img)"
      ],
      "execution_count": 19,
      "outputs": [
        {
          "output_type": "stream",
          "text": [
            "** potato early blight With probability 100.0 \n",
            "\n"
          ],
          "name": "stdout"
        },
        {
          "output_type": "stream",
          "text": [
            "/usr/local/lib/python3.7/dist-packages/tensorflow/python/keras/engine/sequential.py:455: UserWarning: `model.predict_classes()` is deprecated and will be removed after 2021-01-01. Please use instead:* `np.argmax(model.predict(x), axis=-1)`,   if your model does multi-class classification   (e.g. if it uses a `softmax` last-layer activation).* `(model.predict(x) > 0.5).astype(\"int32\")`,   if your model does binary classification   (e.g. if it uses a `sigmoid` last-layer activation).\n",
            "  warnings.warn('`model.predict_classes()` is deprecated and '\n",
            "/usr/local/lib/python3.7/dist-packages/tensorflow/python/keras/engine/sequential.py:430: UserWarning: `model.predict_proba()` is deprecated and will be removed after 2021-01-01. Please use `model.predict()` instead.\n",
            "  warnings.warn('`model.predict_proba()` is deprecated and '\n"
          ],
          "name": "stderr"
        }
      ]
    },
    {
      "cell_type": "code",
      "metadata": {
        "id": "9vpmL6UJhylP"
      },
      "source": [
        ""
      ],
      "execution_count": null,
      "outputs": []
    }
  ]
}